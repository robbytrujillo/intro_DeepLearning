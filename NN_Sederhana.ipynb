{
 "cells": [
  {
   "cell_type": "code",
   "execution_count": 5,
   "id": "acf25fa2",
   "metadata": {},
   "outputs": [
    {
     "name": "stdout",
     "output_type": "stream",
     "text": [
      "Requirement already satisfied: numpy in d:\\programfiles\\anaconda\\lib\\site-packages (1.23.5)\n",
      "Requirement already satisfied: matplotlib in d:\\programfiles\\anaconda\\lib\\site-packages (3.7.0)\n",
      "Requirement already satisfied: h5py in d:\\programfiles\\anaconda\\lib\\site-packages (3.7.0)\n",
      "Requirement already satisfied: scipy in d:\\programfiles\\anaconda\\lib\\site-packages (1.10.0)\n",
      "Requirement already satisfied: pillow in d:\\programfiles\\anaconda\\lib\\site-packages (9.4.0)\n",
      "Requirement already satisfied: imageio in d:\\programfiles\\anaconda\\lib\\site-packages (2.26.0)\n",
      "Requirement already satisfied: scikit-image in d:\\programfiles\\anaconda\\lib\\site-packages (0.19.3)\n",
      "Requirement already satisfied: cycler>=0.10 in d:\\programfiles\\anaconda\\lib\\site-packages (from matplotlib) (0.11.0)\n",
      "Requirement already satisfied: pyparsing>=2.3.1 in d:\\programfiles\\anaconda\\lib\\site-packages (from matplotlib) (3.0.9)\n",
      "Requirement already satisfied: contourpy>=1.0.1 in d:\\programfiles\\anaconda\\lib\\site-packages (from matplotlib) (1.0.5)\n",
      "Requirement already satisfied: kiwisolver>=1.0.1 in d:\\programfiles\\anaconda\\lib\\site-packages (from matplotlib) (1.4.4)\n",
      "Requirement already satisfied: python-dateutil>=2.7 in d:\\programfiles\\anaconda\\lib\\site-packages (from matplotlib) (2.8.2)\n",
      "Requirement already satisfied: packaging>=20.0 in d:\\programfiles\\anaconda\\lib\\site-packages (from matplotlib) (22.0)\n",
      "Requirement already satisfied: fonttools>=4.22.0 in d:\\programfiles\\anaconda\\lib\\site-packages (from matplotlib) (4.25.0)\n",
      "Requirement already satisfied: PyWavelets>=1.1.1 in d:\\programfiles\\anaconda\\lib\\site-packages (from scikit-image) (1.4.1)\n",
      "Requirement already satisfied: tifffile>=2019.7.26 in d:\\programfiles\\anaconda\\lib\\site-packages (from scikit-image) (2021.7.2)\n",
      "Requirement already satisfied: networkx>=2.2 in d:\\programfiles\\anaconda\\lib\\site-packages (from scikit-image) (2.8.4)\n",
      "Requirement already satisfied: six>=1.5 in d:\\programfiles\\anaconda\\lib\\site-packages (from python-dateutil>=2.7->matplotlib) (1.16.0)\n"
     ]
    },
    {
     "ename": "ModuleNotFoundError",
     "evalue": "No module named 'lr_utils'",
     "output_type": "error",
     "traceback": [
      "\u001b[1;31m---------------------------------------------------------------------------\u001b[0m",
      "\u001b[1;31mModuleNotFoundError\u001b[0m                       Traceback (most recent call last)",
      "Cell \u001b[1;32mIn[5], line 35\u001b[0m\n\u001b[0;32m     21\u001b[0m \u001b[38;5;66;03m# Pastikan berkas 'lr_utils.py' ada di dalam folder \"custom_modules\"\u001b[39;00m\n\u001b[0;32m     22\u001b[0m \u001b[38;5;66;03m# Pastikan kode 'lr_utils.py' berisi definisi modul yang sesuai\u001b[39;00m\n\u001b[0;32m     23\u001b[0m \u001b[38;5;66;03m# dengan yang Anda butuhkan\u001b[39;00m\n\u001b[1;32m   (...)\u001b[0m\n\u001b[0;32m     31\u001b[0m \u001b[38;5;66;03m# Setelah Anda menyimpannya, Anda dapat mengimpor modul 'lr_utils'\u001b[39;00m\n\u001b[0;32m     32\u001b[0m \u001b[38;5;66;03m# seperti berikut:\u001b[39;00m\n\u001b[0;32m     34\u001b[0m sys\u001b[38;5;241m.\u001b[39mpath\u001b[38;5;241m.\u001b[39mappend(\u001b[38;5;124m\"\u001b[39m\u001b[38;5;124mcustom_modules\u001b[39m\u001b[38;5;124m\"\u001b[39m)\n\u001b[1;32m---> 35\u001b[0m \u001b[38;5;28;01mimport\u001b[39;00m \u001b[38;5;21;01mlr_utils\u001b[39;00m\n\u001b[0;32m     37\u001b[0m \u001b[38;5;66;03m# Jika menggunakan fungsi load_dataset dari lr_utils, gunakan\u001b[39;00m\n\u001b[0;32m     38\u001b[0m \u001b[38;5;66;03m# perintah berikut:\u001b[39;00m\n\u001b[0;32m     40\u001b[0m \u001b[38;5;28;01mfrom\u001b[39;00m \u001b[38;5;21;01mlr_utils\u001b[39;00m \u001b[38;5;28;01mimport\u001b[39;00m load_dataset\n",
      "\u001b[1;31mModuleNotFoundError\u001b[0m: No module named 'lr_utils'"
     ]
    }
   ],
   "source": [
    "# Instalasi Modul yang Dibutuhkan\n",
    "# Jika modul belum diinstal sebelumnya, instal modul yang diperlukan dengan pip\n",
    "!pip install numpy matplotlib h5py scipy pillow imageio scikit-image\n",
    "\n",
    "# Import Modul yang Dibutuhkan\n",
    "import numpy as np\n",
    "import matplotlib.pyplot as plt\n",
    "import h5py\n",
    "import scipy\n",
    "from PIL import Image\n",
    "import skimage\n",
    "import imageio\n",
    "import sys\n",
    "import os\n",
    "\n",
    "# Pastikan direktori \"custom_modules\" sudah ada atau dibuat\n",
    "# Jika folder ini belum ada, buatlah terlebih dahulu\n",
    "if not os.path.exists(\"custom_modules\"):\n",
    "    os.makedirs(\"custom_modules\")\n",
    "\n",
    "# Pastikan berkas 'lr_utils.py' ada di dalam folder \"custom_modules\"\n",
    "# Pastikan kode 'lr_utils.py' berisi definisi modul yang sesuai\n",
    "# dengan yang Anda butuhkan\n",
    "# Misalnya, kode lr_utils.py:\n",
    "# import numpy as np\n",
    "# def load_dataset():\n",
    "#     # Isi fungsi load_dataset sesuai dengan kebutuhan Anda\n",
    "#     pass\n",
    "\n",
    "# Simpan kode 'lr_utils.py' di folder \"custom_modules\"\n",
    "# Setelah Anda menyimpannya, Anda dapat mengimpor modul 'lr_utils'\n",
    "# seperti berikut:\n",
    "\n",
    "sys.path.append(\"custom_modules\")\n",
    "import lr_utils\n",
    "\n",
    "# Jika menggunakan fungsi load_dataset dari lr_utils, gunakan\n",
    "# perintah berikut:\n",
    "\n",
    "from lr_utils import load_dataset\n",
    "\n",
    "# Pastikan Anda berada di direktori yang benar (di mana notebook Anda berada)\n",
    "print(os.getcwd())\n",
    "\n",
    "# Pastikan kode Anda setelah impor modul berjalan dengan baik\n",
    "# Contoh penggunaan fungsi load_dataset\n",
    "# (Harap gantikan dengan penggunaan yang sesuai untuk kode Anda)\n",
    "# dataset = load_dataset()\n",
    "# X_train, Y_train, X_test, Y_test = dataset[\"train_set_x\"], dataset[\"train_set_y\"], dataset[\"test_set_x\"], dataset[\"test_set_y\"]\n",
    "# ...\n",
    "\n",
    "# Jangan lupa untuk menjalankan seluruh kode di atas untuk memastikan\n",
    "# tidak ada kesalahan lain yang muncul.\n",
    "\n",
    "# Terakhir, jika Anda melakukan perubahan pada kode 'lr_utils.py' atau\n",
    "# menambahkan modul khusus lainnya, pastikan untuk merestart kernel Jupyter\n",
    "# untuk memuat ulang modul yang diperbarui.\n"
   ]
  },
  {
   "cell_type": "code",
   "execution_count": null,
   "id": "6863f808",
   "metadata": {},
   "outputs": [],
   "source": []
  }
 ],
 "metadata": {
  "kernelspec": {
   "display_name": "Python 3 (ipykernel)",
   "language": "python",
   "name": "python3"
  },
  "language_info": {
   "codemirror_mode": {
    "name": "ipython",
    "version": 3
   },
   "file_extension": ".py",
   "mimetype": "text/x-python",
   "name": "python",
   "nbconvert_exporter": "python",
   "pygments_lexer": "ipython3",
   "version": "3.10.9"
  }
 },
 "nbformat": 4,
 "nbformat_minor": 5
}
