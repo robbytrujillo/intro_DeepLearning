{
 "cells": [
  {
   "cell_type": "code",
   "execution_count": 9,
   "id": "7a1b1dfb",
   "metadata": {},
   "outputs": [],
   "source": [
    "import numpy as np\n",
    "\n",
    "a = np.random.rand(5)\n",
    "a = a.reshape(5,1)"
   ]
  },
  {
   "cell_type": "code",
   "execution_count": 10,
   "id": "8ddf982c",
   "metadata": {},
   "outputs": [
    {
     "name": "stdout",
     "output_type": "stream",
     "text": [
      "[[0.18233867]\n",
      " [0.46693906]\n",
      " [0.46902487]\n",
      " [0.93488026]\n",
      " [0.15844163]]\n"
     ]
    }
   ],
   "source": [
    "print(a) # menampilkan data random (vector)"
   ]
  },
  {
   "cell_type": "code",
   "execution_count": 3,
   "id": "5aa6f8de",
   "metadata": {},
   "outputs": [
    {
     "name": "stdout",
     "output_type": "stream",
     "text": [
      "(5,)\n"
     ]
    }
   ],
   "source": [
    "print(a.shape)"
   ]
  },
  {
   "cell_type": "code",
   "execution_count": 4,
   "id": "72bdc1ea",
   "metadata": {},
   "outputs": [
    {
     "name": "stdout",
     "output_type": "stream",
     "text": [
      "[0.58280431 0.41515365 0.91091721 0.48773021 0.82247859]\n"
     ]
    }
   ],
   "source": [
    "print(a.T)"
   ]
  },
  {
   "cell_type": "code",
   "execution_count": 5,
   "id": "efdb2b26",
   "metadata": {},
   "outputs": [
    {
     "name": "stdout",
     "output_type": "stream",
     "text": [
      "2.2561353654807874\n"
     ]
    }
   ],
   "source": [
    "print(np.dot(a, a.T))"
   ]
  },
  {
   "cell_type": "code",
   "execution_count": 6,
   "id": "fe816d7f",
   "metadata": {},
   "outputs": [
    {
     "name": "stdout",
     "output_type": "stream",
     "text": [
      "[[-0.781075  ]\n",
      " [ 1.3668419 ]\n",
      " [ 0.75234814]\n",
      " [-1.38687168]\n",
      " [ 0.83304158]]\n"
     ]
    }
   ],
   "source": [
    "d = np.random.randn(5,1)\n",
    "print(d)"
   ]
  },
  {
   "cell_type": "code",
   "execution_count": 7,
   "id": "65bc201a",
   "metadata": {},
   "outputs": [
    {
     "name": "stdout",
     "output_type": "stream",
     "text": [
      "[[-0.781075    1.3668419   0.75234814 -1.38687168  0.83304158]]\n"
     ]
    }
   ],
   "source": [
    "print(d.T)"
   ]
  },
  {
   "cell_type": "code",
   "execution_count": 8,
   "id": "b49d8bef",
   "metadata": {},
   "outputs": [
    {
     "name": "stdout",
     "output_type": "stream",
     "text": [
      "[[ 0.61007816 -1.06760604 -0.58764032  1.0832508  -0.65066795]\n",
      " [-1.06760604  1.86825677  1.02834096 -1.89563432  1.13863613]\n",
      " [-0.58764032  1.02834096  0.56602772 -1.04341032  0.62673728]\n",
      " [ 1.0832508  -1.89563432 -1.04341032  1.92341306 -1.15532177]\n",
      " [-0.65066795  1.13863613  0.62673728 -1.15532177  0.69395827]]\n"
     ]
    }
   ],
   "source": [
    "print(np.dot(d, d.T))"
   ]
  },
  {
   "cell_type": "code",
   "execution_count": null,
   "id": "5c524776",
   "metadata": {},
   "outputs": [],
   "source": []
  }
 ],
 "metadata": {
  "kernelspec": {
   "display_name": "Python 3 (ipykernel)",
   "language": "python",
   "name": "python3"
  },
  "language_info": {
   "codemirror_mode": {
    "name": "ipython",
    "version": 3
   },
   "file_extension": ".py",
   "mimetype": "text/x-python",
   "name": "python",
   "nbconvert_exporter": "python",
   "pygments_lexer": "ipython3",
   "version": "3.10.9"
  }
 },
 "nbformat": 4,
 "nbformat_minor": 5
}
